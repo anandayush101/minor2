{
  "nbformat": 4,
  "nbformat_minor": 0,
  "metadata": {
    "colab": {
      "provenance": [],
      "authorship_tag": "ABX9TyPyzPbDcvkCp3qeHY+NEV70",
      "include_colab_link": true
    },
    "kernelspec": {
      "name": "python3",
      "display_name": "Python 3"
    },
    "language_info": {
      "name": "python"
    }
  },
  "cells": [
    {
      "cell_type": "markdown",
      "metadata": {
        "id": "view-in-github",
        "colab_type": "text"
      },
      "source": [
        "<a href=\"https://colab.research.google.com/github/anandayush101/minor2/blob/main/minor2.ipynb\" target=\"_parent\"><img src=\"https://colab.research.google.com/assets/colab-badge.svg\" alt=\"Open In Colab\"/></a>"
      ]
    },
    {
      "cell_type": "code",
      "execution_count": null,
      "metadata": {
        "id": "E8OHCA9LbkQJ"
      },
      "outputs": [],
      "source": [
        "import pandas as pd\n",
        "import numpy as np\n",
        "import matplotlib.pyplot as plt\n",
        "import matplotlib as mpl\n",
        "%matplotlib inline\n",
        "mpl.style.use('ggplot')"
      ]
    },
    {
      "cell_type": "code",
      "source": [
        "\n",
        "car=pd.read_csv('quikr_car.csv')"
      ],
      "metadata": {
        "id": "PeSn-Q0MbvZO"
      },
      "execution_count": null,
      "outputs": []
    },
    {
      "cell_type": "code",
      "source": [
        "car.head()"
      ],
      "metadata": {
        "id": "lUDQbE67bvWw"
      },
      "execution_count": null,
      "outputs": []
    },
    {
      "cell_type": "code",
      "source": [
        "car.shape\n"
      ],
      "metadata": {
        "id": "d4fC5s3nbvUP"
      },
      "execution_count": null,
      "outputs": []
    },
    {
      "cell_type": "code",
      "source": [
        "car=car[car['year'].str.isnumeric()]"
      ],
      "metadata": {
        "id": "7n27Cny8bvRs"
      },
      "execution_count": null,
      "outputs": []
    },
    {
      "cell_type": "code",
      "source": [
        "car['year']=car['year'].astype(int)"
      ],
      "metadata": {
        "id": "gAC_hQaJbvPN"
      },
      "execution_count": null,
      "outputs": []
    },
    {
      "cell_type": "code",
      "source": [
        "car=car[car['Price']!='Ask For Price']"
      ],
      "metadata": {
        "id": "tb_zp1oNbvMo"
      },
      "execution_count": null,
      "outputs": []
    },
    {
      "cell_type": "code",
      "source": [
        "car['Price']=car['Price'].str.replace(',','').astype(int)"
      ],
      "metadata": {
        "id": "YRdVcMifbvKH"
      },
      "execution_count": null,
      "outputs": []
    },
    {
      "cell_type": "code",
      "source": [
        "\n",
        "car['name']=car['name'].str.split().str.slice(start=0,stop=3).str.join(' ')"
      ],
      "metadata": {
        "id": "yA7c3YfZbvHp"
      },
      "execution_count": null,
      "outputs": []
    },
    {
      "cell_type": "code",
      "source": [
        "car=car.reset_index(drop=True)"
      ],
      "metadata": {
        "id": "nepIqKK_bvFO"
      },
      "execution_count": null,
      "outputs": []
    },
    {
      "cell_type": "code",
      "source": [
        "car['company'].unique()"
      ],
      "metadata": {
        "id": "bWPVgrZ2cKUl"
      },
      "execution_count": null,
      "outputs": []
    },
    {
      "cell_type": "code",
      "source": [
        "plt.subplots(figsize=(15,7))\n",
        "ax=sns.boxplot(x='company',y='Price',data=car)\n",
        "ax.set_xticklabels(ax.get_xticklabels(),rotation=40,ha='right')\n",
        "plt.show()"
      ],
      "metadata": {
        "id": "SLwZTotScKR2"
      },
      "execution_count": null,
      "outputs": []
    },
    {
      "cell_type": "code",
      "source": [
        "plt.subplots(figsize=(20,10))\n",
        "ax=sns.swarmplot(x='year',y='Price',data=car)\n",
        "ax.set_xticklabels(ax.get_xticklabels(),rotation=40,ha='right')\n",
        "plt.show()\n"
      ],
      "metadata": {
        "id": "zyunbj-vcKPA"
      },
      "execution_count": null,
      "outputs": []
    },
    {
      "cell_type": "code",
      "source": [
        "from sklearn.model_selection import train_test_split\n",
        "X_train,X_test,y_train,y_test=train_test_split(X,y,test_size=0.2)"
      ],
      "metadata": {
        "id": "vUqASptecKMY"
      },
      "execution_count": null,
      "outputs": []
    },
    {
      "cell_type": "code",
      "source": [
        "from sklearn.preprocessing import OneHotEncoder\n",
        "from sklearn.compose import make_column_transformer\n",
        "from sklearn.pipeline import make_pipeline\n",
        "from sklearn.metrics import r2_score"
      ],
      "metadata": {
        "id": "brtAJ98PcKJw"
      },
      "execution_count": null,
      "outputs": []
    },
    {
      "cell_type": "code",
      "source": [
        "ohe=OneHotEncoder()\n",
        "ohe.fit(X[['name','company','fuel_type']])"
      ],
      "metadata": {
        "id": "Q9oZNdi7cKGo"
      },
      "execution_count": null,
      "outputs": []
    },
    {
      "cell_type": "code",
      "source": [
        "column_trans=make_column_transformer((OneHotEncoder(categories=ohe.categories_),['name','company','fuel_type']),\n",
        "                                    remainder='passthrough')"
      ],
      "metadata": {
        "id": "6o6b2uMfbvCr"
      },
      "execution_count": null,
      "outputs": []
    },
    {
      "cell_type": "code",
      "source": [
        "lr=LinearRegression()"
      ],
      "metadata": {
        "id": "brRrbPKzcZqY"
      },
      "execution_count": null,
      "outputs": []
    },
    {
      "cell_type": "code",
      "source": [
        "pipe=make_pipeline(column_trans,lr)"
      ],
      "metadata": {
        "id": "C2a_yPt9cZnx"
      },
      "execution_count": null,
      "outputs": []
    },
    {
      "cell_type": "code",
      "source": [
        "pipe.fit(X_train,y_train)"
      ],
      "metadata": {
        "id": "DJmL2MdYcZlI"
      },
      "execution_count": null,
      "outputs": []
    },
    {
      "cell_type": "code",
      "source": [
        "y_pred=pipe.predict(X_test)"
      ],
      "metadata": {
        "id": "qwEyBykKbvAI"
      },
      "execution_count": null,
      "outputs": []
    },
    {
      "cell_type": "code",
      "source": [
        "scores=[]\n",
        "for i in range(1000):\n",
        "    X_train,X_test,y_train,y_test=train_test_split(X,y,test_size=0.1,random_state=i)\n",
        "    lr=LinearRegression()\n",
        "    pipe=make_pipeline(column_trans,lr)\n",
        "    pipe.fit(X_train,y_train)\n",
        "    y_pred=pipe.predict(X_test)\n",
        "    scores.append(r2_score(y_test,y_pred))"
      ],
      "metadata": {
        "id": "QX27d6eOceHl"
      },
      "execution_count": null,
      "outputs": []
    },
    {
      "cell_type": "code",
      "source": [
        "scores[np.argmax(scores)]"
      ],
      "metadata": {
        "id": "Sxb5_DVjceEJ"
      },
      "execution_count": null,
      "outputs": []
    },
    {
      "cell_type": "code",
      "source": [],
      "metadata": {
        "id": "PMhRk1ghceA8"
      },
      "execution_count": null,
      "outputs": []
    },
    {
      "cell_type": "code",
      "source": [
        "pipe.predict(pd.DataFrame(columns=X_test.columns,data=np.array(['Maruti Suzuki Swift','Maruti',2019,100,'Petrol']).reshape(1,5)))\n"
      ],
      "metadata": {
        "id": "5dRKYgPNckMq"
      },
      "execution_count": null,
      "outputs": []
    },
    {
      "cell_type": "code",
      "source": [
        "X_train,X_test,y_train,y_test=train_test_split(X,y,test_size=0.1,random_state=np.argmax(scores))\n",
        "lr=LinearRegression()\n",
        "pipe=make_pipeline(column_trans,lr)\n",
        "pipe.fit(X_train,y_train)\n",
        "y_pred=pipe.predict(X_test)\n",
        "r2_score(y_test,y_pred)"
      ],
      "metadata": {
        "id": "rEt5dYH4ckJ5"
      },
      "execution_count": null,
      "outputs": []
    },
    {
      "cell_type": "code",
      "source": [
        "import pickle"
      ],
      "metadata": {
        "id": "Mvan3lyOco4z"
      },
      "execution_count": null,
      "outputs": []
    },
    {
      "cell_type": "code",
      "source": [
        "pickle.dump(pipe,open('LinearRegressionModel.pkl','wb'))"
      ],
      "metadata": {
        "id": "0FYdrxXbckHD"
      },
      "execution_count": null,
      "outputs": []
    }
  ]
}